{
  "nbformat": 4,
  "nbformat_minor": 0,
  "metadata": {
    "colab": {
      "provenance": [],
      "authorship_tag": "ABX9TyNaw/OOLeQLbkqNkOzjNjGT",
      "include_colab_link": true
    },
    "kernelspec": {
      "name": "python3",
      "display_name": "Python 3"
    },
    "language_info": {
      "name": "python"
    }
  },
  "cells": [
    {
      "cell_type": "markdown",
      "metadata": {
        "id": "view-in-github",
        "colab_type": "text"
      },
      "source": [
        "<a href=\"https://colab.research.google.com/github/Kishen180903/bharat-intern-quiz_app/blob/main/todolist.ipynb\" target=\"_parent\"><img src=\"https://colab.research.google.com/assets/colab-badge.svg\" alt=\"Open In Colab\"/></a>"
      ]
    },
    {
      "cell_type": "code",
      "execution_count": null,
      "metadata": {
        "colab": {
          "base_uri": "https://localhost:8080/"
        },
        "id": "LgA4pJvsGiAn",
        "outputId": "820b0b18-4f21-4dd6-b87c-e1e745a02a1d"
      },
      "outputs": [
        {
          "output_type": "stream",
          "name": "stdout",
          "text": [
            "\n",
            "TODO LIST APP\n",
            "1. View tasks\n",
            "2. Add task\n",
            "3. Mark task as done\n",
            "4. Quit\n"
          ]
        }
      ],
      "source": [
        "import os\n",
        "\n",
        "def display_menu():\n",
        "    print(\"\\nTODO LIST APP\")\n",
        "    print(\"1. View tasks\")\n",
        "    print(\"2. Add task\")\n",
        "    print(\"3. Mark task as done\")\n",
        "    print(\"4. Quit\")\n",
        "\n",
        "def view_tasks():\n",
        "    if os.path.exists(\"tasks.txt\"):\n",
        "        with open(\"tasks.txt\", \"r\") as file:\n",
        "            tasks = file.readlines()\n",
        "            if tasks:\n",
        "                print(\"\\nTASKS:\")\n",
        "                for index, task in enumerate(tasks, start=1):\n",
        "                    print(f\"{index}. {task.strip()}\")\n",
        "            else:\n",
        "                print(\"\\nNo tasks.\")\n",
        "    else:\n",
        "        print(\"\\nNo tasks.\")\n",
        "\n",
        "def add_task():\n",
        "    task = input(\"\\nEnter task: \")\n",
        "    with open(\"tasks.txt\", \"a\") as file:\n",
        "        file.write(task + \"\\n\")\n",
        "    print(\"Task added successfully.\")\n",
        "\n",
        "def mark_task_done():\n",
        "    view_tasks()\n",
        "    task_number = input(\"\\nEnter the task number to mark as done (or '0' to cancel): \")\n",
        "    if task_number.isdigit():\n",
        "        task_number = int(task_number)\n",
        "        if task_number > 0:\n",
        "            with open(\"tasks.txt\", \"r\") as file:\n",
        "                tasks = file.readlines()\n",
        "            if 1 <= task_number <= len(tasks):\n",
        "                completed_task = tasks.pop(task_number - 1)\n",
        "                with open(\"tasks.txt\", \"w\") as file:\n",
        "                    file.writelines(tasks)\n",
        "                print(f\"\\nMarked task as done: {completed_task.strip()}\")\n",
        "            else:\n",
        "                print(\"\\nInvalid task number.\")\n",
        "        elif task_number == 0:\n",
        "            print(\"\\nOperation canceled.\")\n",
        "        else:\n",
        "            print(\"\\nInvalid input. Please enter a valid task number.\")\n",
        "    else:\n",
        "        print(\"\\nInvalid input. Please enter a valid task number.\")\n",
        "\n",
        "def main():\n",
        "    while True:\n",
        "        display_menu()\n",
        "        choice = input(\"\\nEnter your choice (1-4): \")\n",
        "        if choice == \"1\":\n",
        "            view_tasks()\n",
        "        elif choice == \"2\":\n",
        "            add_task()\n",
        "        elif choice == \"3\":\n",
        "            mark_task_done()\n",
        "        elif choice == \"4\":\n",
        "            print(\"\\nGoodbye!\")\n",
        "            break\n",
        "        else:\n",
        "            print(\"\\nInvalid choice. Please enter a number between 1 and 4.\")\n",
        "\n",
        "if __name__ == \"__main__\":\n",
        "    main()\n"
      ]
    },
    {
      "cell_type": "code",
      "source": [],
      "metadata": {
        "id": "5Hf1HVlQGytb"
      },
      "execution_count": null,
      "outputs": []
    }
  ]
}